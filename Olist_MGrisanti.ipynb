{
 "cells": [
  {
   "cell_type": "code",
   "execution_count": 17,
   "metadata": {},
   "outputs": [],
   "source": [
    "import numpy as np\n",
    "import pandas as pd\n",
    "import matplotlib.pyplot as plt\n",
    "import seaborn as sns\n",
    "import warnings\n",
    "warnings.filterwarnings('ignore')"
   ]
  },
  {
   "cell_type": "code",
   "execution_count": 7,
   "metadata": {},
   "outputs": [
    {
     "name": "stdout",
     "output_type": "stream",
     "text": [
      "<class 'pandas.core.frame.DataFrame'>\n",
      "RangeIndex: 99441 entries, 0 to 99440\n",
      "Data columns (total 2 columns):\n",
      "CUSTOMER_ID    99441 non-null object\n",
      "ORDER_DATE     99441 non-null datetime64[ns]\n",
      "dtypes: datetime64[ns](1), object(1)\n",
      "memory usage: 1.5+ MB\n"
     ]
    },
    {
     "data": {
      "text/html": [
       "<div>\n",
       "<style scoped>\n",
       "    .dataframe tbody tr th:only-of-type {\n",
       "        vertical-align: middle;\n",
       "    }\n",
       "\n",
       "    .dataframe tbody tr th {\n",
       "        vertical-align: top;\n",
       "    }\n",
       "\n",
       "    .dataframe thead th {\n",
       "        text-align: right;\n",
       "    }\n",
       "</style>\n",
       "<table border=\"1\" class=\"dataframe\">\n",
       "  <thead>\n",
       "    <tr style=\"text-align: right;\">\n",
       "      <th></th>\n",
       "      <th>CUSTOMER_ID</th>\n",
       "      <th>ORDER_DATE</th>\n",
       "    </tr>\n",
       "  </thead>\n",
       "  <tbody>\n",
       "    <tr>\n",
       "      <td>24851</td>\n",
       "      <td>56dd71743d522ff3e993fd5ece9840f9</td>\n",
       "      <td>2018-03-23</td>\n",
       "    </tr>\n",
       "    <tr>\n",
       "      <td>58119</td>\n",
       "      <td>0a5df23b922b9998bb7378f1ac03c98a</td>\n",
       "      <td>2017-09-29</td>\n",
       "    </tr>\n",
       "    <tr>\n",
       "      <td>28941</td>\n",
       "      <td>1ea65ddb35b66437e159550e6e239501</td>\n",
       "      <td>2017-11-20</td>\n",
       "    </tr>\n",
       "    <tr>\n",
       "      <td>82617</td>\n",
       "      <td>3366f554757da30446c5f0ba9f3c8e91</td>\n",
       "      <td>2018-04-16</td>\n",
       "    </tr>\n",
       "    <tr>\n",
       "      <td>52889</td>\n",
       "      <td>381865bb5f82d4d601fa3026a283b47e</td>\n",
       "      <td>2017-11-08</td>\n",
       "    </tr>\n",
       "  </tbody>\n",
       "</table>\n",
       "</div>"
      ],
      "text/plain": [
       "                            CUSTOMER_ID ORDER_DATE\n",
       "24851  56dd71743d522ff3e993fd5ece9840f9 2018-03-23\n",
       "58119  0a5df23b922b9998bb7378f1ac03c98a 2017-09-29\n",
       "28941  1ea65ddb35b66437e159550e6e239501 2017-11-20\n",
       "82617  3366f554757da30446c5f0ba9f3c8e91 2018-04-16\n",
       "52889  381865bb5f82d4d601fa3026a283b47e 2017-11-08"
      ]
     },
     "metadata": {},
     "output_type": "display_data"
    }
   ],
   "source": [
    "df1 = pd.read_csv('olist_orders_dataset.csv')\n",
    "df2 = pd.read_csv('olist_customers_dataset.csv')\n",
    "df3 = pd.read_csv('olist_order_payments_dataset.csv')\n",
    "\n",
    "cols = ['customer_id', 'order_id', 'order_purchase_timestamp']\n",
    "orders = df1[cols]\n",
    "orders =  orders.set_index('customer_id')\n",
    "orders.drop_duplicates(inplace=True)\n",
    "\n",
    "cols = ['order_id', 'payment_value']\n",
    "payment = df3[cols]\n",
    "payment = payment.set_index('order_id')\n",
    "payment.drop_duplicates(inplace=True)\n",
    "\n",
    "cols = ['customer_id', 'customer_unique_id']\n",
    "customers = df2[cols]\n",
    "customers = customers.set_index('customer_id')\n",
    "\n",
    "elog=pd.concat([orders,customers], axis=1, join='inner')\n",
    "elog.reset_index(inplace=True)\n",
    "\n",
    "cols = ['customer_unique_id', 'order_purchase_timestamp']\n",
    "elog = elog[cols]\n",
    "\n",
    "elog['order_purchase_timestamp'] = pd.to_datetime(elog['order_purchase_timestamp'])\n",
    "elog['order_date'] = elog.order_purchase_timestamp.dt.date\n",
    "elog['order_date'] = pd.to_datetime(elog['order_date'])\n",
    "\n",
    "cols = ['customer_unique_id', 'order_date']\n",
    "elog = elog[cols]\n",
    "\n",
    "elog.columns = ['CUSTOMER_ID', 'ORDER_DATE']\n",
    "\n",
    "elog.info()\n",
    "display(elog.sample(5))"
   ]
  },
  {
   "cell_type": "code",
   "execution_count": 8,
   "metadata": {},
   "outputs": [
    {
     "data": {
      "text/plain": [
       "<matplotlib.axes._subplots.AxesSubplot at 0x1058af320>"
      ]
     },
     "execution_count": 8,
     "metadata": {},
     "output_type": "execute_result"
    },
    {
     "data": {
      "image/png": "[encoded data removed]",
      "text/plain": [
       "<Figure size 432x288 with 1 Axes>"
      ]
     },
     "metadata": {
      "needs_background": "light"
     },
     "output_type": "display_data"
    }
   ],
   "source": [
    "#customer_id value counts bar plot \n",
    "v = elog.CUSTOMER_ID.value_counts()\n",
    "pd.value_counts(v).plot(kind=\"bar\")"
   ]
  },
  {
   "cell_type": "code",
   "execution_count": 9,
   "metadata": {},
   "outputs": [
    {
     "data": {
      "text/plain": [
       "8d50f5eadf50201ccdcedfb9e2ac8455    17\n",
       "3e43e6105506432c953e165fb2acf44c     9\n",
       "6469f99c1f9dfae7733b25662e7f1782     7\n",
       "1b6c7548a2a1f9037c1fd3ddfed95f33     7\n",
       "ca77025e7201e3b30c44b472ff346268     7\n",
       "                                    ..\n",
       "506e75b37532165adf8def1540e82f46     1\n",
       "d20f34444ce44ca683d46e9da98456e1     1\n",
       "b780d717ee630cb04f7a31a75841e10d     1\n",
       "a47e9c4f145452422398b53fa614c043     1\n",
       "13e287d3a441b8e6e77784338e3d926c     1\n",
       "Name: CUSTOMER_ID, Length: 96096, dtype: int64"
      ]
     },
     "execution_count": 9,
     "metadata": {},
     "output_type": "execute_result"
    }
   ],
   "source": [
    "elog.CUSTOMER_ID.value_counts()"
   ]
  },
  {
   "cell_type": "code",
   "execution_count": 10,
   "metadata": {
    "scrolled": true
   },
   "outputs": [
    {
     "data": {
      "text/plain": [
       "<matplotlib.axes._subplots.AxesSubplot at 0x1a1a23f908>"
      ]
     },
     "execution_count": 10,
     "metadata": {},
     "output_type": "execute_result"
    },
    {
     "data": {
      "image/png": "[encoded data removed]",
      "text/plain": [
       "<Figure size 432x288 with 1 Axes>"
      ]
     },
     "metadata": {
      "needs_background": "light"
     },
     "output_type": "display_data"
    }
   ],
   "source": [
    "#order date value counts bar plot\n",
    "o = elog.ORDER_DATE.value_counts()\n",
    "pd.value_counts(o).plot(kind=\"bar\")"
   ]
  },
  {
   "cell_type": "code",
   "execution_count": 11,
   "metadata": {},
   "outputs": [
    {
     "data": {
      "text/plain": [
       "2017-11-24    1176\n",
       "2017-11-25     499\n",
       "2017-11-27     403\n",
       "2017-11-26     391\n",
       "2017-11-28     380\n",
       "              ... \n",
       "2016-10-02       1\n",
       "2018-08-31       1\n",
       "2016-09-05       1\n",
       "2018-10-16       1\n",
       "2018-10-03       1\n",
       "Name: ORDER_DATE, Length: 634, dtype: int64"
      ]
     },
     "execution_count": 11,
     "metadata": {},
     "output_type": "execute_result"
    }
   ],
   "source": [
    "elog.ORDER_DATE.value_counts()"
   ]
  },
  {
   "cell_type": "code",
   "execution_count": 18,
   "metadata": {},
   "outputs": [
    {
     "data": {
      "text/html": [
       "<div>\n",
       "<style scoped>\n",
       "    .dataframe tbody tr th:only-of-type {\n",
       "        vertical-align: middle;\n",
       "    }\n",
       "\n",
       "    .dataframe tbody tr th {\n",
       "        vertical-align: top;\n",
       "    }\n",
       "\n",
       "    .dataframe thead th {\n",
       "        text-align: right;\n",
       "    }\n",
       "</style>\n",
       "<table border=\"1\" class=\"dataframe\">\n",
       "  <thead>\n",
       "    <tr style=\"text-align: right;\">\n",
       "      <th></th>\n",
       "      <th>payment_value</th>\n",
       "    </tr>\n",
       "  </thead>\n",
       "  <tbody>\n",
       "    <tr>\n",
       "      <td>sum</td>\n",
       "      <td>7773585.14</td>\n",
       "    </tr>\n",
       "    <tr>\n",
       "      <td>max</td>\n",
       "      <td>13664.08</td>\n",
       "    </tr>\n",
       "  </tbody>\n",
       "</table>\n",
       "</div>"
      ],
      "text/plain": [
       "     payment_value\n",
       "sum     7773585.14\n",
       "max       13664.08"
      ]
     },
     "execution_count": 18,
     "metadata": {},
     "output_type": "execute_result"
    }
   ],
   "source": [
    "p = payment.aggregate(['sum', 'max'])"
   ]
  },
  {
   "cell_type": "code",
   "execution_count": 71,
   "metadata": {},
   "outputs": [
    {
     "data": {
      "text/html": [
       "<div>\n",
       "<style scoped>\n",
       "    .dataframe tbody tr th:only-of-type {\n",
       "        vertical-align: middle;\n",
       "    }\n",
       "\n",
       "    .dataframe tbody tr th {\n",
       "        vertical-align: top;\n",
       "    }\n",
       "\n",
       "    .dataframe thead th {\n",
       "        text-align: right;\n",
       "    }\n",
       "</style>\n",
       "<table border=\"1\" class=\"dataframe\">\n",
       "  <thead>\n",
       "    <tr style=\"text-align: right;\">\n",
       "      <th></th>\n",
       "      <th>CUSTOMER_ID</th>\n",
       "      <th>ORDER_DATE</th>\n",
       "    </tr>\n",
       "  </thead>\n",
       "  <tbody>\n",
       "    <tr>\n",
       "      <td>count</td>\n",
       "      <td>99441</td>\n",
       "      <td>99441</td>\n",
       "    </tr>\n",
       "    <tr>\n",
       "      <td>unique</td>\n",
       "      <td>96096</td>\n",
       "      <td>634</td>\n",
       "    </tr>\n",
       "    <tr>\n",
       "      <td>top</td>\n",
       "      <td>8d50f5eadf50201ccdcedfb9e2ac8455</td>\n",
       "      <td>2017-11-24 00:00:00</td>\n",
       "    </tr>\n",
       "    <tr>\n",
       "      <td>freq</td>\n",
       "      <td>17</td>\n",
       "      <td>1176</td>\n",
       "    </tr>\n",
       "    <tr>\n",
       "      <td>first</td>\n",
       "      <td>NaN</td>\n",
       "      <td>2016-09-04 00:00:00</td>\n",
       "    </tr>\n",
       "    <tr>\n",
       "      <td>last</td>\n",
       "      <td>NaN</td>\n",
       "      <td>2018-10-17 00:00:00</td>\n",
       "    </tr>\n",
       "  </tbody>\n",
       "</table>\n",
       "</div>"
      ],
      "text/plain": [
       "                             CUSTOMER_ID           ORDER_DATE\n",
       "count                              99441                99441\n",
       "unique                             96096                  634\n",
       "top     8d50f5eadf50201ccdcedfb9e2ac8455  2017-11-24 00:00:00\n",
       "freq                                  17                 1176\n",
       "first                                NaN  2016-09-04 00:00:00\n",
       "last                                 NaN  2018-10-17 00:00:00"
      ]
     },
     "execution_count": 71,
     "metadata": {},
     "output_type": "execute_result"
    }
   ],
   "source": [
    "elog.describe()"
   ]
  },
  {
   "cell_type": "code",
   "execution_count": 34,
   "metadata": {
    "scrolled": true
   },
   "outputs": [
    {
     "data": {
      "text/html": [
       "<div>\n",
       "<style scoped>\n",
       "    .dataframe tbody tr th:only-of-type {\n",
       "        vertical-align: middle;\n",
       "    }\n",
       "\n",
       "    .dataframe tbody tr th {\n",
       "        vertical-align: top;\n",
       "    }\n",
       "\n",
       "    .dataframe thead th {\n",
       "        text-align: right;\n",
       "    }\n",
       "</style>\n",
       "<table border=\"1\" class=\"dataframe\">\n",
       "  <thead>\n",
       "    <tr style=\"text-align: right;\">\n",
       "      <th></th>\n",
       "      <th>Customer ID</th>\n",
       "      <th>Order ID</th>\n",
       "      <th>Order Date</th>\n",
       "      <th>Sales</th>\n",
       "    </tr>\n",
       "  </thead>\n",
       "  <tbody>\n",
       "    <tr>\n",
       "      <td>58402</td>\n",
       "      <td>bf77f570c34b1a6960353879d4ba4414</td>\n",
       "      <td>47106d9b98c54756baa304fa0f9c36f0</td>\n",
       "      <td>2018-03-24</td>\n",
       "      <td>161.53</td>\n",
       "    </tr>\n",
       "    <tr>\n",
       "      <td>85612</td>\n",
       "      <td>b03183c784f431b0b4d56e94d9461427</td>\n",
       "      <td>eff815e07af90858dc1de0952b153b9d</td>\n",
       "      <td>2018-07-30</td>\n",
       "      <td>97.25</td>\n",
       "    </tr>\n",
       "    <tr>\n",
       "      <td>80207</td>\n",
       "      <td>a86314eff3e69dc24f43d56010778157</td>\n",
       "      <td>9ce40c402845819d3d1c88eb10a41e4a</td>\n",
       "      <td>2017-09-05</td>\n",
       "      <td>10.81</td>\n",
       "    </tr>\n",
       "    <tr>\n",
       "      <td>73018</td>\n",
       "      <td>f206315b02656d3adf91b65e35b7a70c</td>\n",
       "      <td>3437696fd6e7ed0db729224d21959bc9</td>\n",
       "      <td>2018-03-07</td>\n",
       "      <td>70.77</td>\n",
       "    </tr>\n",
       "    <tr>\n",
       "      <td>80463</td>\n",
       "      <td>3054e9226cf13ac6a363cd693d9fbfb6</td>\n",
       "      <td>a6cc4d40b53f7e99ea8ba03cd33ae60b</td>\n",
       "      <td>2018-04-25</td>\n",
       "      <td>175.08</td>\n",
       "    </tr>\n",
       "  </tbody>\n",
       "</table>\n",
       "</div>"
      ],
      "text/plain": [
       "                            Customer ID                          Order ID  \\\n",
       "58402  bf77f570c34b1a6960353879d4ba4414  47106d9b98c54756baa304fa0f9c36f0   \n",
       "85612  b03183c784f431b0b4d56e94d9461427  eff815e07af90858dc1de0952b153b9d   \n",
       "80207  a86314eff3e69dc24f43d56010778157  9ce40c402845819d3d1c88eb10a41e4a   \n",
       "73018  f206315b02656d3adf91b65e35b7a70c  3437696fd6e7ed0db729224d21959bc9   \n",
       "80463  3054e9226cf13ac6a363cd693d9fbfb6  a6cc4d40b53f7e99ea8ba03cd33ae60b   \n",
       "\n",
       "      Order Date   Sales  \n",
       "58402 2018-03-24  161.53  \n",
       "85612 2018-07-30   97.25  \n",
       "80207 2017-09-05   10.81  \n",
       "73018 2018-03-07   70.77  \n",
       "80463 2018-04-25  175.08  "
      ]
     },
     "metadata": {},
     "output_type": "display_data"
    }
   ],
   "source": [
    "first_merge = pd.merge(df1,df3, on = 'order_id')\n",
    "cols = ['customer_id', 'order_id', 'order_purchase_timestamp', 'payment_value']\n",
    "first_merge = first_merge[cols]\n",
    "\n",
    "first_merge['order_purchase_timestamp'] = pd.to_datetime(first_merge['order_purchase_timestamp'])\n",
    "first_merge['order_purchase_timestamp'] = first_merge.order_purchase_timestamp.dt.date\n",
    "first_merge['order_purchase_timestamp'] = pd.to_datetime(first_merge['order_purchase_timestamp'])\n",
    "\n",
    "first_merge.columns = ['Customer ID', 'Order ID', 'Order Date', 'Sales' ]\n",
    "\n",
    "first_merge.info\n",
    "display(first_merge.sample(5))"
   ]
  },
  {
   "cell_type": "code",
   "execution_count": 9,
   "metadata": {},
   "outputs": [
    {
     "data": {
      "text/html": [
       "<div>\n",
       "<style scoped>\n",
       "    .dataframe tbody tr th:only-of-type {\n",
       "        vertical-align: middle;\n",
       "    }\n",
       "\n",
       "    .dataframe tbody tr th {\n",
       "        vertical-align: top;\n",
       "    }\n",
       "\n",
       "    .dataframe thead th {\n",
       "        text-align: right;\n",
       "    }\n",
       "</style>\n",
       "<table border=\"1\" class=\"dataframe\">\n",
       "  <thead>\n",
       "    <tr style=\"text-align: right;\">\n",
       "      <th></th>\n",
       "      <th>payment_value</th>\n",
       "    </tr>\n",
       "  </thead>\n",
       "  <tbody>\n",
       "    <tr>\n",
       "      <td>sum</td>\n",
       "      <td>16008872.12</td>\n",
       "    </tr>\n",
       "    <tr>\n",
       "      <td>max</td>\n",
       "      <td>13664.08</td>\n",
       "    </tr>\n",
       "  </tbody>\n",
       "</table>\n",
       "</div>"
      ],
      "text/plain": [
       "     payment_value\n",
       "sum    16008872.12\n",
       "max       13664.08"
      ]
     },
     "execution_count": 9,
     "metadata": {},
     "output_type": "execute_result"
    }
   ],
   "source": [
    "first_merge.aggregate({\"payment_value\":['sum','max']})"
   ]
  },
  {
   "cell_type": "code",
   "execution_count": 10,
   "metadata": {},
   "outputs": [
    {
     "data": {
      "text/plain": [
       "<matplotlib.axes._subplots.AxesSubplot at 0x1a164c8ac8>"
      ]
     },
     "execution_count": 10,
     "metadata": {},
     "output_type": "execute_result"
    },
    {
     "data": {
      "image/png": "[encoded data removed]",
      "text/plain": [
       "<Figure size 432x288 with 1 Axes>"
      ]
     },
     "metadata": {
      "needs_background": "light"
     },
     "output_type": "display_data"
    }
   ],
   "source": [
    "first_merge = pd.DataFrame(np.random.randn(1000, 2), columns=['payment_value', 'customer_id']).cumsum()\n",
    "\n",
    "first_merge['order_purchase_timestamp'] = pd.Series(list(range(len(first_merge))))\n",
    "\n",
    "first_merge.plot(x='order_purchase_timestamp', y='payment_value')\n"
   ]
  },
  {
   "cell_type": "code",
   "execution_count": 25,
   "metadata": {},
   "outputs": [
    {
     "data": {
      "text/plain": [
       "<matplotlib.axes._subplots.AxesSubplot at 0x1a1d1f72b0>"
      ]
     },
     "execution_count": 25,
     "metadata": {},
     "output_type": "execute_result"
    },
    {
     "data": {
      "image/png": "[encoded data removed]",
      "text/plain": [
       "<Figure size 842.4x595.44 with 1 Axes>"
      ]
     },
     "metadata": {},
     "output_type": "display_data"
    }
   ],
   "source": [
    "first_merge = pd.Series(np.random.randn(1000),\n",
    "               index=pd.date_range('1/1/2017', periods=1000))\n",
    "\n",
    "first_merge = first_merge.cumsum()\n",
    "\n",
    "first_merge.plot()"
   ]
  },
  {
   "cell_type": "code",
   "execution_count": 33,
   "metadata": {},
   "outputs": [
    {
     "name": "stdout",
     "output_type": "stream",
     "text": [
      "<class 'pandas.core.frame.DataFrame'>\n",
      "Int64Index: 103886 entries, 0 to 103885\n",
      "Data columns (total 4 columns):\n",
      "Customer ID    103886 non-null object\n",
      "Order ID       103886 non-null object\n",
      " Order Date    103886 non-null datetime64[ns]\n",
      "Sales          103886 non-null float64\n",
      "dtypes: datetime64[ns](1), float64(1), object(2)\n",
      "memory usage: 4.0+ MB\n"
     ]
    }
   ],
   "source": [
    "first_merge.info()"
   ]
  },
  {
   "cell_type": "code",
   "execution_count": 35,
   "metadata": {},
   "outputs": [
    {
     "data": {
      "text/html": [
       "<div>\n",
       "<style scoped>\n",
       "    .dataframe tbody tr th:only-of-type {\n",
       "        vertical-align: middle;\n",
       "    }\n",
       "\n",
       "    .dataframe tbody tr th {\n",
       "        vertical-align: top;\n",
       "    }\n",
       "\n",
       "    .dataframe thead th {\n",
       "        text-align: right;\n",
       "    }\n",
       "</style>\n",
       "<table border=\"1\" class=\"dataframe\">\n",
       "  <thead>\n",
       "    <tr style=\"text-align: right;\">\n",
       "      <th></th>\n",
       "      <th>Recency</th>\n",
       "      <th>Frequency</th>\n",
       "      <th>Monetary</th>\n",
       "    </tr>\n",
       "    <tr>\n",
       "      <th>Customer ID</th>\n",
       "      <th></th>\n",
       "      <th></th>\n",
       "      <th></th>\n",
       "    </tr>\n",
       "  </thead>\n",
       "  <tbody>\n",
       "    <tr>\n",
       "      <td>1617b1357756262bfa56ab541c47bc16</td>\n",
       "      <td>383</td>\n",
       "      <td>1</td>\n",
       "      <td>13664.08</td>\n",
       "    </tr>\n",
       "    <tr>\n",
       "      <td>ec5b2ba62e574342386871631fafd3fc</td>\n",
       "      <td>94</td>\n",
       "      <td>1</td>\n",
       "      <td>7274.88</td>\n",
       "    </tr>\n",
       "    <tr>\n",
       "      <td>c6e2731c5b391845f6800c97401a43a9</td>\n",
       "      <td>612</td>\n",
       "      <td>1</td>\n",
       "      <td>6929.31</td>\n",
       "    </tr>\n",
       "    <tr>\n",
       "      <td>f48d464a0baaea338cb25f816991ab1f</td>\n",
       "      <td>84</td>\n",
       "      <td>1</td>\n",
       "      <td>6922.21</td>\n",
       "    </tr>\n",
       "    <tr>\n",
       "      <td>3fd6777bbce08a352fddd04e4a7cc8f6</td>\n",
       "      <td>511</td>\n",
       "      <td>1</td>\n",
       "      <td>6726.66</td>\n",
       "    </tr>\n",
       "  </tbody>\n",
       "</table>\n",
       "</div>"
      ],
      "text/plain": [
       "                                  Recency  Frequency  Monetary\n",
       "Customer ID                                                   \n",
       "1617b1357756262bfa56ab541c47bc16      383          1  13664.08\n",
       "ec5b2ba62e574342386871631fafd3fc       94          1   7274.88\n",
       "c6e2731c5b391845f6800c97401a43a9      612          1   6929.31\n",
       "f48d464a0baaea338cb25f816991ab1f       84          1   6922.21\n",
       "3fd6777bbce08a352fddd04e4a7cc8f6      511          1   6726.66"
      ]
     },
     "execution_count": 35,
     "metadata": {},
     "output_type": "execute_result"
    }
   ],
   "source": [
    "RFM = first_merge.groupby('Customer ID').agg({'Order Date': lambda y: (first_merge['Order Date'].max().date() - y.max().date()).days,\n",
    "                                              'Order ID': lambda y: len(y.unique()),  \n",
    "                                              'Sales': lambda y: round(y.sum(),2)})\n",
    "\n",
    "RFM.columns = ['Recency', 'Frequency', 'Monetary']\n",
    "RFM = RFM.sort_values('Monetary', ascending=False)\n",
    "RFM.head() "
   ]
  },
  {
   "cell_type": "code",
   "execution_count": 38,
   "metadata": {},
   "outputs": [
    {
     "data": {
      "text/html": [
       "<div>\n",
       "<style scoped>\n",
       "    .dataframe tbody tr th:only-of-type {\n",
       "        vertical-align: middle;\n",
       "    }\n",
       "\n",
       "    .dataframe tbody tr th {\n",
       "        vertical-align: top;\n",
       "    }\n",
       "\n",
       "    .dataframe thead th {\n",
       "        text-align: right;\n",
       "    }\n",
       "</style>\n",
       "<table border=\"1\" class=\"dataframe\">\n",
       "  <thead>\n",
       "    <tr style=\"text-align: right;\">\n",
       "      <th></th>\n",
       "      <th>Recency</th>\n",
       "      <th>Frequency</th>\n",
       "      <th>Monetary</th>\n",
       "    </tr>\n",
       "  </thead>\n",
       "  <tbody>\n",
       "    <tr>\n",
       "      <td>count</td>\n",
       "      <td>99440.000000</td>\n",
       "      <td>99440.0</td>\n",
       "      <td>99440.000000</td>\n",
       "    </tr>\n",
       "    <tr>\n",
       "      <td>mean</td>\n",
       "      <td>290.268212</td>\n",
       "      <td>1.0</td>\n",
       "      <td>160.990267</td>\n",
       "    </tr>\n",
       "    <tr>\n",
       "      <td>std</td>\n",
       "      <td>153.664106</td>\n",
       "      <td>0.0</td>\n",
       "      <td>221.951257</td>\n",
       "    </tr>\n",
       "    <tr>\n",
       "      <td>min</td>\n",
       "      <td>0.000000</td>\n",
       "      <td>1.0</td>\n",
       "      <td>0.000000</td>\n",
       "    </tr>\n",
       "    <tr>\n",
       "      <td>25%</td>\n",
       "      <td>166.000000</td>\n",
       "      <td>1.0</td>\n",
       "      <td>62.010000</td>\n",
       "    </tr>\n",
       "    <tr>\n",
       "      <td>50%</td>\n",
       "      <td>272.000000</td>\n",
       "      <td>1.0</td>\n",
       "      <td>105.290000</td>\n",
       "    </tr>\n",
       "    <tr>\n",
       "      <td>75%</td>\n",
       "      <td>400.000000</td>\n",
       "      <td>1.0</td>\n",
       "      <td>176.970000</td>\n",
       "    </tr>\n",
       "    <tr>\n",
       "      <td>max</td>\n",
       "      <td>773.000000</td>\n",
       "      <td>1.0</td>\n",
       "      <td>13664.080000</td>\n",
       "    </tr>\n",
       "  </tbody>\n",
       "</table>\n",
       "</div>"
      ],
      "text/plain": [
       "            Recency  Frequency      Monetary\n",
       "count  99440.000000    99440.0  99440.000000\n",
       "mean     290.268212        1.0    160.990267\n",
       "std      153.664106        0.0    221.951257\n",
       "min        0.000000        1.0      0.000000\n",
       "25%      166.000000        1.0     62.010000\n",
       "50%      272.000000        1.0    105.290000\n",
       "75%      400.000000        1.0    176.970000\n",
       "max      773.000000        1.0  13664.080000"
      ]
     },
     "execution_count": 38,
     "metadata": {},
     "output_type": "execute_result"
    }
   ],
   "source": [
    "RFM.describe()"
   ]
  },
  {
   "cell_type": "code",
   "execution_count": null,
   "metadata": {},
   "outputs": [],
   "source": []
  }
 ],
 "metadata": {
  "kernelspec": {
   "display_name": "Python 3",
   "language": "python",
   "name": "python3"
  },
  "language_info": {
   "codemirror_mode": {
    "name": "ipython",
    "version": 3
   },
   "file_extension": ".py",
   "mimetype": "text/x-python",
   "name": "python",
   "nbconvert_exporter": "python",
   "pygments_lexer": "ipython3",
   "version": "3.7.3"
  }
 },
 "nbformat": 4,
 "nbformat_minor": 2
}
